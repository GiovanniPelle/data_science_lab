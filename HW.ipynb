{
 "cells": [
  {
   "cell_type": "markdown",
   "metadata": {},
   "source": [
    "## Libraries"
   ]
  },
  {
   "cell_type": "code",
   "execution_count": 41,
   "metadata": {},
   "outputs": [],
   "source": [
    "import pandas as pd\n",
    "import numpy as np\n",
    "\n",
    "from sklearn.model_selection import train_test_split\n",
    "from sklearn.multioutput import MultiOutputRegressor\n",
    "from sklearn.ensemble import RandomForestRegressor\n",
    "from sklearn.linear_model import LinearRegression\n",
    "from sklearn.metrics import euclidean_distances\n",
    "import matplotlib.pyplot as plt\n",
    "from tqdm import tqdm\n"
   ]
  },
  {
   "cell_type": "markdown",
   "metadata": {},
   "source": [
    "### Loading csv file"
   ]
  },
  {
   "cell_type": "code",
   "execution_count": 30,
   "metadata": {},
   "outputs": [
    {
     "name": "stdout",
     "output_type": "stream",
     "text": [
      "First rows of the Development DataFrames are:\n"
     ]
    },
    {
     "data": {
      "text/html": [
       "<div>\n",
       "<style scoped>\n",
       "    .dataframe tbody tr th:only-of-type {\n",
       "        vertical-align: middle;\n",
       "    }\n",
       "\n",
       "    .dataframe tbody tr th {\n",
       "        vertical-align: top;\n",
       "    }\n",
       "\n",
       "    .dataframe thead th {\n",
       "        text-align: right;\n",
       "    }\n",
       "</style>\n",
       "<table border=\"1\" class=\"dataframe\">\n",
       "  <thead>\n",
       "    <tr style=\"text-align: right;\">\n",
       "      <th></th>\n",
       "      <th>x</th>\n",
       "      <th>y</th>\n",
       "      <th>pmax[0]</th>\n",
       "      <th>negpmax[0]</th>\n",
       "      <th>area[0]</th>\n",
       "      <th>tmax[0]</th>\n",
       "      <th>rms[0]</th>\n",
       "      <th>pmax[1]</th>\n",
       "      <th>negpmax[1]</th>\n",
       "      <th>area[1]</th>\n",
       "      <th>...</th>\n",
       "      <th>pmax[16]</th>\n",
       "      <th>negpmax[16]</th>\n",
       "      <th>area[16]</th>\n",
       "      <th>tmax[16]</th>\n",
       "      <th>rms[16]</th>\n",
       "      <th>pmax[17]</th>\n",
       "      <th>negpmax[17]</th>\n",
       "      <th>area[17]</th>\n",
       "      <th>tmax[17]</th>\n",
       "      <th>rms[17]</th>\n",
       "    </tr>\n",
       "  </thead>\n",
       "  <tbody>\n",
       "    <tr>\n",
       "      <th>0</th>\n",
       "      <td>200.0</td>\n",
       "      <td>200.0</td>\n",
       "      <td>4.066907</td>\n",
       "      <td>-17.690173</td>\n",
       "      <td>2.847932</td>\n",
       "      <td>0.600000</td>\n",
       "      <td>2.007042</td>\n",
       "      <td>5.409161</td>\n",
       "      <td>-17.721210</td>\n",
       "      <td>4.538778</td>\n",
       "      <td>...</td>\n",
       "      <td>607.109118</td>\n",
       "      <td>-36.282996</td>\n",
       "      <td>583.899899</td>\n",
       "      <td>72.373094</td>\n",
       "      <td>0.374498</td>\n",
       "      <td>614.916861</td>\n",
       "      <td>-39.848523</td>\n",
       "      <td>591.852768</td>\n",
       "      <td>72.331028</td>\n",
       "      <td>0.405595</td>\n",
       "    </tr>\n",
       "    <tr>\n",
       "      <th>1</th>\n",
       "      <td>200.0</td>\n",
       "      <td>200.0</td>\n",
       "      <td>5.916801</td>\n",
       "      <td>-4.717111</td>\n",
       "      <td>5.792778</td>\n",
       "      <td>79.765174</td>\n",
       "      <td>1.564535</td>\n",
       "      <td>4.414289</td>\n",
       "      <td>-4.736827</td>\n",
       "      <td>3.720435</td>\n",
       "      <td>...</td>\n",
       "      <td>630.348007</td>\n",
       "      <td>-39.715988</td>\n",
       "      <td>580.042799</td>\n",
       "      <td>71.029155</td>\n",
       "      <td>0.403258</td>\n",
       "      <td>624.950701</td>\n",
       "      <td>-41.266681</td>\n",
       "      <td>586.569646</td>\n",
       "      <td>71.089058</td>\n",
       "      <td>0.405890</td>\n",
       "    </tr>\n",
       "    <tr>\n",
       "      <th>2</th>\n",
       "      <td>200.0</td>\n",
       "      <td>200.0</td>\n",
       "      <td>4.286652</td>\n",
       "      <td>-5.316132</td>\n",
       "      <td>2.356390</td>\n",
       "      <td>74.600000</td>\n",
       "      <td>1.404622</td>\n",
       "      <td>4.567191</td>\n",
       "      <td>-5.985437</td>\n",
       "      <td>3.490490</td>\n",
       "      <td>...</td>\n",
       "      <td>613.880342</td>\n",
       "      <td>-40.679678</td>\n",
       "      <td>580.407491</td>\n",
       "      <td>71.892264</td>\n",
       "      <td>0.568777</td>\n",
       "      <td>596.437125</td>\n",
       "      <td>-42.712286</td>\n",
       "      <td>574.091695</td>\n",
       "      <td>71.943934</td>\n",
       "      <td>0.498019</td>\n",
       "    </tr>\n",
       "    <tr>\n",
       "      <th>3</th>\n",
       "      <td>200.0</td>\n",
       "      <td>200.0</td>\n",
       "      <td>4.003635</td>\n",
       "      <td>-4.617459</td>\n",
       "      <td>2.189005</td>\n",
       "      <td>43.000000</td>\n",
       "      <td>1.512162</td>\n",
       "      <td>5.019058</td>\n",
       "      <td>-4.229949</td>\n",
       "      <td>6.786200</td>\n",
       "      <td>...</td>\n",
       "      <td>600.714957</td>\n",
       "      <td>-43.206601</td>\n",
       "      <td>579.882635</td>\n",
       "      <td>72.357388</td>\n",
       "      <td>0.255483</td>\n",
       "      <td>591.763739</td>\n",
       "      <td>-50.681940</td>\n",
       "      <td>584.099483</td>\n",
       "      <td>72.333282</td>\n",
       "      <td>0.336454</td>\n",
       "    </tr>\n",
       "    <tr>\n",
       "      <th>4</th>\n",
       "      <td>200.0</td>\n",
       "      <td>200.0</td>\n",
       "      <td>4.448146</td>\n",
       "      <td>-4.848743</td>\n",
       "      <td>3.997002</td>\n",
       "      <td>196.667482</td>\n",
       "      <td>1.101113</td>\n",
       "      <td>3.250262</td>\n",
       "      <td>-5.783587</td>\n",
       "      <td>2.449456</td>\n",
       "      <td>...</td>\n",
       "      <td>609.723785</td>\n",
       "      <td>-43.570892</td>\n",
       "      <td>590.156125</td>\n",
       "      <td>71.249130</td>\n",
       "      <td>0.413855</td>\n",
       "      <td>606.917023</td>\n",
       "      <td>-49.923819</td>\n",
       "      <td>584.316142</td>\n",
       "      <td>71.242904</td>\n",
       "      <td>0.293824</td>\n",
       "    </tr>\n",
       "  </tbody>\n",
       "</table>\n",
       "<p>5 rows × 92 columns</p>\n",
       "</div>"
      ],
      "text/plain": [
       "       x      y   pmax[0]  negpmax[0]   area[0]     tmax[0]    rms[0]  \\\n",
       "0  200.0  200.0  4.066907  -17.690173  2.847932    0.600000  2.007042   \n",
       "1  200.0  200.0  5.916801   -4.717111  5.792778   79.765174  1.564535   \n",
       "2  200.0  200.0  4.286652   -5.316132  2.356390   74.600000  1.404622   \n",
       "3  200.0  200.0  4.003635   -4.617459  2.189005   43.000000  1.512162   \n",
       "4  200.0  200.0  4.448146   -4.848743  3.997002  196.667482  1.101113   \n",
       "\n",
       "    pmax[1]  negpmax[1]   area[1]  ...    pmax[16]  negpmax[16]    area[16]  \\\n",
       "0  5.409161  -17.721210  4.538778  ...  607.109118   -36.282996  583.899899   \n",
       "1  4.414289   -4.736827  3.720435  ...  630.348007   -39.715988  580.042799   \n",
       "2  4.567191   -5.985437  3.490490  ...  613.880342   -40.679678  580.407491   \n",
       "3  5.019058   -4.229949  6.786200  ...  600.714957   -43.206601  579.882635   \n",
       "4  3.250262   -5.783587  2.449456  ...  609.723785   -43.570892  590.156125   \n",
       "\n",
       "    tmax[16]   rms[16]    pmax[17]  negpmax[17]    area[17]   tmax[17]  \\\n",
       "0  72.373094  0.374498  614.916861   -39.848523  591.852768  72.331028   \n",
       "1  71.029155  0.403258  624.950701   -41.266681  586.569646  71.089058   \n",
       "2  71.892264  0.568777  596.437125   -42.712286  574.091695  71.943934   \n",
       "3  72.357388  0.255483  591.763739   -50.681940  584.099483  72.333282   \n",
       "4  71.249130  0.413855  606.917023   -49.923819  584.316142  71.242904   \n",
       "\n",
       "    rms[17]  \n",
       "0  0.405595  \n",
       "1  0.405890  \n",
       "2  0.498019  \n",
       "3  0.336454  \n",
       "4  0.293824  \n",
       "\n",
       "[5 rows x 92 columns]"
      ]
     },
     "metadata": {},
     "output_type": "display_data"
    },
    {
     "name": "stdout",
     "output_type": "stream",
     "text": [
      "First rows of the Development DataFrames are:\n"
     ]
    },
    {
     "data": {
      "text/html": [
       "<div>\n",
       "<style scoped>\n",
       "    .dataframe tbody tr th:only-of-type {\n",
       "        vertical-align: middle;\n",
       "    }\n",
       "\n",
       "    .dataframe tbody tr th {\n",
       "        vertical-align: top;\n",
       "    }\n",
       "\n",
       "    .dataframe thead th {\n",
       "        text-align: right;\n",
       "    }\n",
       "</style>\n",
       "<table border=\"1\" class=\"dataframe\">\n",
       "  <thead>\n",
       "    <tr style=\"text-align: right;\">\n",
       "      <th></th>\n",
       "      <th>Id</th>\n",
       "      <th>pmax[0]</th>\n",
       "      <th>negpmax[0]</th>\n",
       "      <th>area[0]</th>\n",
       "      <th>tmax[0]</th>\n",
       "      <th>rms[0]</th>\n",
       "      <th>pmax[1]</th>\n",
       "      <th>negpmax[1]</th>\n",
       "      <th>area[1]</th>\n",
       "      <th>tmax[1]</th>\n",
       "      <th>...</th>\n",
       "      <th>pmax[16]</th>\n",
       "      <th>negpmax[16]</th>\n",
       "      <th>area[16]</th>\n",
       "      <th>tmax[16]</th>\n",
       "      <th>rms[16]</th>\n",
       "      <th>pmax[17]</th>\n",
       "      <th>negpmax[17]</th>\n",
       "      <th>area[17]</th>\n",
       "      <th>tmax[17]</th>\n",
       "      <th>rms[17]</th>\n",
       "    </tr>\n",
       "  </thead>\n",
       "  <tbody>\n",
       "    <tr>\n",
       "      <th>0</th>\n",
       "      <td>0</td>\n",
       "      <td>4.400616</td>\n",
       "      <td>-4.257770</td>\n",
       "      <td>2.860212</td>\n",
       "      <td>176.600000</td>\n",
       "      <td>1.562814</td>\n",
       "      <td>8.738040</td>\n",
       "      <td>-3.598874</td>\n",
       "      <td>5.554105</td>\n",
       "      <td>70.800000</td>\n",
       "      <td>...</td>\n",
       "      <td>614.621212</td>\n",
       "      <td>-42.232574</td>\n",
       "      <td>583.237137</td>\n",
       "      <td>70.693530</td>\n",
       "      <td>0.861022</td>\n",
       "      <td>608.931417</td>\n",
       "      <td>-42.728827</td>\n",
       "      <td>568.019556</td>\n",
       "      <td>70.755552</td>\n",
       "      <td>0.328075</td>\n",
       "    </tr>\n",
       "    <tr>\n",
       "      <th>1</th>\n",
       "      <td>1</td>\n",
       "      <td>5.599571</td>\n",
       "      <td>-2.974570</td>\n",
       "      <td>9.400537</td>\n",
       "      <td>90.677386</td>\n",
       "      <td>1.129626</td>\n",
       "      <td>23.460358</td>\n",
       "      <td>-20.616669</td>\n",
       "      <td>17.998419</td>\n",
       "      <td>72.800000</td>\n",
       "      <td>...</td>\n",
       "      <td>520.333440</td>\n",
       "      <td>-36.986118</td>\n",
       "      <td>550.540448</td>\n",
       "      <td>72.781390</td>\n",
       "      <td>0.259205</td>\n",
       "      <td>613.671695</td>\n",
       "      <td>-44.449564</td>\n",
       "      <td>586.292097</td>\n",
       "      <td>72.900695</td>\n",
       "      <td>0.401326</td>\n",
       "    </tr>\n",
       "    <tr>\n",
       "      <th>2</th>\n",
       "      <td>2</td>\n",
       "      <td>3.731995</td>\n",
       "      <td>-5.662292</td>\n",
       "      <td>1.930957</td>\n",
       "      <td>155.200000</td>\n",
       "      <td>0.921757</td>\n",
       "      <td>4.837952</td>\n",
       "      <td>-7.224267</td>\n",
       "      <td>3.289124</td>\n",
       "      <td>67.057395</td>\n",
       "      <td>...</td>\n",
       "      <td>607.642389</td>\n",
       "      <td>-46.680069</td>\n",
       "      <td>582.825835</td>\n",
       "      <td>71.407320</td>\n",
       "      <td>0.552691</td>\n",
       "      <td>608.996069</td>\n",
       "      <td>-45.877765</td>\n",
       "      <td>589.520958</td>\n",
       "      <td>71.406020</td>\n",
       "      <td>0.343592</td>\n",
       "    </tr>\n",
       "    <tr>\n",
       "      <th>3</th>\n",
       "      <td>3</td>\n",
       "      <td>5.657729</td>\n",
       "      <td>-4.600342</td>\n",
       "      <td>5.593030</td>\n",
       "      <td>30.463179</td>\n",
       "      <td>1.269390</td>\n",
       "      <td>87.293692</td>\n",
       "      <td>-45.786813</td>\n",
       "      <td>38.422989</td>\n",
       "      <td>71.800000</td>\n",
       "      <td>...</td>\n",
       "      <td>596.094911</td>\n",
       "      <td>-48.241263</td>\n",
       "      <td>577.835129</td>\n",
       "      <td>72.011986</td>\n",
       "      <td>0.361220</td>\n",
       "      <td>612.500144</td>\n",
       "      <td>-49.572583</td>\n",
       "      <td>583.795426</td>\n",
       "      <td>72.066338</td>\n",
       "      <td>0.429650</td>\n",
       "    </tr>\n",
       "    <tr>\n",
       "      <th>4</th>\n",
       "      <td>4</td>\n",
       "      <td>3.716666</td>\n",
       "      <td>-4.583796</td>\n",
       "      <td>1.946927</td>\n",
       "      <td>33.600000</td>\n",
       "      <td>1.082743</td>\n",
       "      <td>9.593125</td>\n",
       "      <td>-5.374179</td>\n",
       "      <td>7.767408</td>\n",
       "      <td>72.414459</td>\n",
       "      <td>...</td>\n",
       "      <td>620.793628</td>\n",
       "      <td>-37.618567</td>\n",
       "      <td>599.834735</td>\n",
       "      <td>72.251813</td>\n",
       "      <td>0.390639</td>\n",
       "      <td>621.557649</td>\n",
       "      <td>-45.189832</td>\n",
       "      <td>600.988676</td>\n",
       "      <td>72.151243</td>\n",
       "      <td>0.358549</td>\n",
       "    </tr>\n",
       "  </tbody>\n",
       "</table>\n",
       "<p>5 rows × 91 columns</p>\n",
       "</div>"
      ],
      "text/plain": [
       "   Id   pmax[0]  negpmax[0]   area[0]     tmax[0]    rms[0]    pmax[1]  \\\n",
       "0   0  4.400616   -4.257770  2.860212  176.600000  1.562814   8.738040   \n",
       "1   1  5.599571   -2.974570  9.400537   90.677386  1.129626  23.460358   \n",
       "2   2  3.731995   -5.662292  1.930957  155.200000  0.921757   4.837952   \n",
       "3   3  5.657729   -4.600342  5.593030   30.463179  1.269390  87.293692   \n",
       "4   4  3.716666   -4.583796  1.946927   33.600000  1.082743   9.593125   \n",
       "\n",
       "   negpmax[1]    area[1]    tmax[1]  ...    pmax[16]  negpmax[16]    area[16]  \\\n",
       "0   -3.598874   5.554105  70.800000  ...  614.621212   -42.232574  583.237137   \n",
       "1  -20.616669  17.998419  72.800000  ...  520.333440   -36.986118  550.540448   \n",
       "2   -7.224267   3.289124  67.057395  ...  607.642389   -46.680069  582.825835   \n",
       "3  -45.786813  38.422989  71.800000  ...  596.094911   -48.241263  577.835129   \n",
       "4   -5.374179   7.767408  72.414459  ...  620.793628   -37.618567  599.834735   \n",
       "\n",
       "    tmax[16]   rms[16]    pmax[17]  negpmax[17]    area[17]   tmax[17]  \\\n",
       "0  70.693530  0.861022  608.931417   -42.728827  568.019556  70.755552   \n",
       "1  72.781390  0.259205  613.671695   -44.449564  586.292097  72.900695   \n",
       "2  71.407320  0.552691  608.996069   -45.877765  589.520958  71.406020   \n",
       "3  72.011986  0.361220  612.500144   -49.572583  583.795426  72.066338   \n",
       "4  72.251813  0.390639  621.557649   -45.189832  600.988676  72.151243   \n",
       "\n",
       "    rms[17]  \n",
       "0  0.328075  \n",
       "1  0.401326  \n",
       "2  0.343592  \n",
       "3  0.429650  \n",
       "4  0.358549  \n",
       "\n",
       "[5 rows x 91 columns]"
      ]
     },
     "metadata": {},
     "output_type": "display_data"
    }
   ],
   "source": [
    "df_dev = pd.read_csv('development.csv')\n",
    "df_eval = pd.read_csv('evaluation.csv')\n",
    "\n",
    "print('First rows of the Development DataFrames are:')\n",
    "display(df_dev.head())\n",
    "print('First rows of the Development DataFrames are:')\n",
    "display(df_eval.head())"
   ]
  },
  {
   "cell_type": "markdown",
   "metadata": {},
   "source": [
    "### Data cleaning\n",
    "\n",
    "For these, we will use a merged version of df_dev and df_eval, which we will call df. In this way, we can run our code only once on the entire dataset."
   ]
  },
  {
   "cell_type": "code",
   "execution_count": 31,
   "metadata": {},
   "outputs": [
    {
     "data": {
      "text/plain": [
       "(385500, 128500, 514000)"
      ]
     },
     "execution_count": 31,
     "metadata": {},
     "output_type": "execute_result"
    }
   ],
   "source": [
    "df = pd.concat([df_dev, df_eval], sort=False)\n",
    "len(df_dev), len(df_eval), len(df)\n"
   ]
  },
  {
   "cell_type": "markdown",
   "metadata": {},
   "source": [
    "A potentially interesting information regards the existance of empty (or Not a Number) values."
   ]
  },
  {
   "cell_type": "markdown",
   "metadata": {},
   "source": [
    "Since *(x,y)* columns are not present in the evaluation Dataframe and the *id* column is not present in the development DataFrame"
   ]
  },
  {
   "cell_type": "code",
   "execution_count": 32,
   "metadata": {},
   "outputs": [
    {
     "name": "stdout",
     "output_type": "stream",
     "text": [
      "NaN values for developments.csv: \tSeries([], dtype: bool)\n",
      "NaN values for evaluation.csv: \t\tSeries([], dtype: bool)\n"
     ]
    }
   ],
   "source": [
    "NaN_dev_mask = df_dev.isna().any(axis=0)\n",
    "NaN_eval_mask = df_eval.isna().any(axis=0)\n",
    "\n",
    "print(f'NaN values for developments.csv: \\t{NaN_dev_mask[NaN_dev_mask == True]}')\n",
    "print(f'NaN values for evaluation.csv: \\t\\t{NaN_eval_mask[NaN_eval_mask == True]}')\n",
    "\n"
   ]
  },
  {
   "cell_type": "markdown",
   "metadata": {},
   "source": [
    "No presence of NaN values\n",
    "\n",
    "## Noise\n",
    "\n",
    "Let's evaluate the presence of noise in the data. It is known that only 12 pads are real measuration. In order to do so, it may come to help the SNR estimation"
   ]
  },
  {
   "cell_type": "code",
   "execution_count": 46,
   "metadata": {},
   "outputs": [
    {
     "name": "stdout",
     "output_type": "stream",
     "text": [
      "Selecting the 6 worst SNR ...\n"
     ]
    },
    {
     "name": "stderr",
     "output_type": "stream",
     "text": [
      "100%|██████████| 42833/42833 [00:12<00:00, 3409.57it/s]\n"
     ]
    },
    {
     "data": {
      "image/png": "[encoded data removed]",
      "text/plain": [
       "<Figure size 640x480 with 1 Axes>"
      ]
     },
     "metadata": {},
     "output_type": "display_data"
    }
   ],
   "source": [
    "# STRATEGY 1: the area is the signal and RMS is the white noise\n",
    "df_features = df.drop(columns=['x', 'y', 'Id'])\n",
    "\n",
    "rms_start_column = 'rms[0]'\n",
    "area_start_column = 'area[0]'\n",
    "\n",
    "area_start_index = df_features.columns.get_loc(area_start_column)\n",
    "area_columns_name = [df_features.iloc[:, area_start_index+5*i].name for i in range(0, 18)]\n",
    "\n",
    "rms_start_index = df_features.columns.get_loc(rms_start_column)\n",
    "rms_columns_name = [df_features.iloc[:, rms_start_index+5*i].name for i in range(0, 18)]\n",
    "\n",
    "\n",
    "S = df_features[area_columns_name]\n",
    "N = df_features[rms_columns_name]\n",
    "\n",
    "snr_name_columns = [f'SNR[{i}]' for i in range(18)]\n",
    "# Selecting the absolute value of S: what does matter is the amplitude of the signal only\n",
    "SNR = pd.DataFrame(10*np.log10(np.abs(S.to_numpy())/N.to_numpy()), columns=snr_name_columns)\n",
    "\n",
    "worst_SNR_list = []\n",
    "# Taking a small fraction of SNR Dataframe\n",
    "SNR_frac = SNR.sample(frac=1/12, random_state=331438)\n",
    "print('Selecting the 6 worst SNR ...')\n",
    "for i in tqdm(range((len(SNR_frac)))):\n",
    "    worst_SNR_list.append(SNR_frac.iloc[i,:].sort_values(ascending=False).iloc[12:].index.to_list())\n",
    "\n",
    "# Once created, merge all the lists in a single list    \n",
    "worst_SNR_list = [worst_SNR for SNR_list in worst_SNR_list for worst_SNR in SNR_list]\n",
    "# Converting the list in a Serie to use value_counts()\n",
    "worst_SNR_counts = pd.Series(worst_SNR_list).value_counts()\n",
    "\n",
    "# PLOT\n",
    "colors = ['#f57600' if i < 6 else '#d9e4ff' for i in range(len(worst_SNR_counts))]\n",
    "worst_SNR_counts.plot(kind='bar', color=colors)\n",
    "plt.xlabel('SNR')\n",
    "plt.ylabel('Counts')\n",
    "plt.title('Count of the worst SNRs')\n",
    "plt.xticks(rotation=45)\n",
    "plt.tight_layout()\n",
    "plt.show()"
   ]
  },
  {
   "cell_type": "code",
   "execution_count": 55,
   "metadata": {},
   "outputs": [
    {
     "name": "stdout",
     "output_type": "stream",
     "text": [
      "Selecting the 6 lowest peaks ...\n"
     ]
    },
    {
     "name": "stderr",
     "output_type": "stream",
     "text": [
      "100%|██████████| 42833/42833 [00:12<00:00, 3438.71it/s]\n"
     ]
    },
    {
     "data": {
      "image/png": "[encoded data removed]",
      "text/plain": [
       "<Figure size 640x480 with 1 Axes>"
      ]
     },
     "metadata": {},
     "output_type": "display_data"
    }
   ],
   "source": [
    "# STRATEGY 2: higher peak is the signal\n",
    "\n",
    "pmax_start_column = 'pmax[0]'\n",
    "pmax_start_index = df_features.columns.get_loc(pmax_start_column)\n",
    "pmax_columns_name = [df_features.iloc[:, pmax_start_index+5*i].name for i in range(0, 18)]\n",
    "\n",
    "df_pmax = pd.DataFrame(df_features[pmax_columns_name], columns=pmax_columns_name)\n",
    "\n",
    "df_pmax_frac = df_pmax.sample(frac=1/12, random_state=331438)\n",
    "lowest_pmax_list = []\n",
    "print('Selecting the 6 lowest peaks ...')\n",
    "for i in tqdm(range((len(df_pmax_frac)))):\n",
    "    lowest_pmax_list.append(df_pmax_frac.iloc[i,:].sort_values(ascending=False).iloc[12:].index.to_list())\n",
    "    \n",
    "# Once created, merge all the lists in a single list    \n",
    "lowest_pmax_list = [lowest_pmax for pmax_list in lowest_pmax_list for lowest_pmax in pmax_list]\n",
    "# Converting the list in a Serie to use value_counts()\n",
    "lowest_pmax_counts = pd.Series(lowest_pmax_list).value_counts()\n",
    "\n",
    "# PLOT\n",
    "colors = ['#f57600' if i < 6 else '#d9e4ff' for i in range(len(lowest_pmax_counts))]\n",
    "lowest_pmax_counts.plot(kind='bar', color=colors)\n",
    "plt.xlabel('pmax')\n",
    "plt.ylabel('Counts')\n",
    "plt.title('Count of the lowest peaks')\n",
    "plt.xticks(rotation=45)\n",
    "plt.tight_layout()\n",
    "plt.show()\n",
    "    "
   ]
  },
  {
   "cell_type": "markdown",
   "metadata": {},
   "source": [
    "The two methods are compatible except for one column (column type[6] and column type[14]): it is possible to understand this result thanks to the SNR analysis. In fact, the two columns have more or less SNR similar value.\n",
    "\n",
    "This suggest that 1 pad of the 12 has not negligible noise.\n",
    "\n",
    "One simple approach is to study the regression using only 11 pads."
   ]
  },
  {
   "cell_type": "code",
   "execution_count": 64,
   "metadata": {},
   "outputs": [
    {
     "data": {
      "text/plain": [
       "['pmax[7]',\n",
       " 'pmax[0]',\n",
       " 'pmax[12]',\n",
       " 'pmax[2]',\n",
       " 'pmax[9]',\n",
       " 'pmax[6]',\n",
       " 'pmax[14]',\n",
       " 'pmax[1]',\n",
       " 'pmax[4]',\n",
       " 'pmax[8]',\n",
       " 'pmax[11]',\n",
       " 'pmax[3]',\n",
       " 'pmax[10]',\n",
       " 'pmax[5]',\n",
       " 'pmax[13]',\n",
       " 'SNR[12]',\n",
       " 'SNR[7]',\n",
       " 'SNR[0]',\n",
       " 'SNR[2]',\n",
       " 'SNR[9]',\n",
       " 'SNR[14]',\n",
       " 'SNR[6]',\n",
       " 'SNR[4]',\n",
       " 'SNR[1]',\n",
       " 'SNR[8]',\n",
       " 'SNR[11]',\n",
       " 'SNR[3]',\n",
       " 'SNR[10]',\n",
       " 'SNR[13]',\n",
       " 'SNR[5]']"
      ]
     },
     "execution_count": 64,
     "metadata": {},
     "output_type": "execute_result"
    }
   ],
   "source": [
    "list_columns_noise = [lowest_pmax_counts.index.to_list(), worst_SNR_counts.index.to_list()]\n",
    "list_columns_noise = [column for column_noise in list_columns_noise for column in column_noise, 'pmax[14]', 'SNR']\n",
    "list_columns_noise"
   ]
  },
  {
   "cell_type": "markdown",
   "metadata": {},
   "source": [
    "### Regressor"
   ]
  },
  {
   "cell_type": "code",
   "execution_count": 5,
   "metadata": {},
   "outputs": [],
   "source": [
    "train_col = [col for col in df.columns if col not in ['x', 'y']]\n",
    "\n",
    "# NaN values on Id come from the df_dev DataFrames\n",
    "\n",
    "X = df.loc[df['Id'].isna(), train_col].drop(columns='Id').values    \n",
    "y = df.loc[df['Id'].isna(), ['x','y']].values\n",
    "\n",
    "\n",
    "\n",
    "#X_train, X_valid, y_train, y_valid = train_test_split(X_train_valid, y_train_valid, shuffle=True, random_state=331438)"
   ]
  },
  {
   "cell_type": "code",
   "execution_count": 6,
   "metadata": {},
   "outputs": [],
   "source": [
    "X = df[train_col].drop(columns='Id').values\n",
    "y = df[['x','y']].values\n",
    "feature_names = df.drop(columns=['x', 'y']).columns\n",
    "\n",
    "X_train_valid = X[df['Id'].isna()]\n",
    "y_train_valid = y[df['Id'].isna()]\n",
    "X_test = X[~df['Id'].isna()]\n",
    "y_test = y[~df['Id'].isna()]\n",
    "\n",
    "X_train, X_valid, y_train, y_valid = train_test_split(X_train_valid, y_train_valid, shuffle=True, random_state=331438)"
   ]
  },
  {
   "cell_type": "code",
   "execution_count": 7,
   "metadata": {},
   "outputs": [
    {
     "data": {
      "text/plain": [
       "(289125, 2)"
      ]
     },
     "execution_count": 7,
     "metadata": {},
     "output_type": "execute_result"
    }
   ],
   "source": [
    "y_train.shape"
   ]
  },
  {
   "cell_type": "markdown",
   "metadata": {},
   "source": [
    "We can now train a random forest with the default parameters to establish an initial baseline."
   ]
  },
  {
   "cell_type": "code",
   "execution_count": 8,
   "metadata": {},
   "outputs": [],
   "source": [
    "\n",
    "reg = MultiOutputRegressor(RandomForestRegressor(10, random_state=331438))\n",
    "reg.fit(X_train , y_train)\n",
    "euclidean_distances(y_valid, reg.predict(X_valid))"
   ]
  }
 ],
 "metadata": {
  "kernelspec": {
   "display_name": "Python 3",
   "language": "python",
   "name": "python3"
  },
  "language_info": {
   "codemirror_mode": {
    "name": "ipython",
    "version": 3
   },
   "file_extension": ".py",
   "mimetype": "text/x-python",
   "name": "python",
   "nbconvert_exporter": "python",
   "pygments_lexer": "ipython3",
   "version": "3.8.2"
  }
 },
 "nbformat": 4,
 "nbformat_minor": 2
}
